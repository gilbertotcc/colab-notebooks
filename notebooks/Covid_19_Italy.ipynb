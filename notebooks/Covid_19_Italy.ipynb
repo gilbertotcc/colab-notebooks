{
  "nbformat": 4,
  "nbformat_minor": 0,
  "metadata": {
    "colab": {
      "name": "Covid-19 Italy",
      "provenance": [],
      "collapsed_sections": [],
      "authorship_tag": "ABX9TyPg9WoZXkF30ivT+ZLDNjox"
    },
    "kernelspec": {
      "name": "python3",
      "display_name": "Python 3"
    }
  },
  "cells": [
    {
      "cell_type": "markdown",
      "metadata": {
        "id": "Rv0wApOFDr8Z"
      },
      "source": [
        "# Codiv-19 Italy\n",
        "\n",
        "This notebook collects *some analysis* of that data about Covid-19\n",
        "pandemic in Italy. Source data comes from the GitHub repository\n",
        "[pcm-dpc/COVID-19](https://github.com/pcm-dpc/COVID-19)."
      ]
    },
    {
      "cell_type": "markdown",
      "metadata": {
        "id": "owV3gs7TRVhk"
      },
      "source": [
        "## Inhabitants in Italy\n",
        "\n",
        "As source for Italian inhabitants data provided by the\n",
        "[ISTAT](http://dati.istat.it/) are used."
      ]
    },
    {
      "cell_type": "code",
      "metadata": {
        "id": "cXVvlw18RjbU"
      },
      "source": [
        "import pandas as pd\n",
        "\n",
        "INHABITANTS_CSV_URL = \"https://raw.githubusercontent.com/gilbertotcc/colab-notebooks/feat/covid-19-italy/datasets/Inhabitants_in_Italy_2020.csv\"\n",
        "\n",
        "italian_inhabitants_by_region = pd.read_csv(INHABITANTS_CSV_URL)[[\"Territorio\", \"Value\"]]\n",
        "italian_inhabitants_by_region"
      ],
      "execution_count": null,
      "outputs": []
    },
    {
      "cell_type": "markdown",
      "metadata": {
        "id": "DSsLYAMERc67"
      },
      "source": [
        "## Covid-19 cases\n",
        "\n",
        "TODO Add description."
      ]
    },
    {
      "cell_type": "code",
      "metadata": {
        "id": "l_H5pHJgDrTQ"
      },
      "source": [
        "import pandas as pd\n",
        "\n",
        "LATEST_DATA_BY_REGION_CSV_URL = \"https://raw.githubusercontent.com/pcm-dpc/COVID-19/master/dati-regioni/dpc-covid19-ita-regioni-latest.csv\"\n",
        "\n",
        "current_data_by_region = pd.read_csv(LATEST_DATA_BY_REGION_CSV_URL)\n",
        "current_data_by_region[[\"denominazione_regione\", \"nuovi_positivi\"]]"
      ],
      "execution_count": null,
      "outputs": []
    }
  ]
}