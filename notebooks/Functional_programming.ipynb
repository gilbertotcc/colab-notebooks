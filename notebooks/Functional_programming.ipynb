{
  "nbformat": 4,
  "nbformat_minor": 0,
  "metadata": {
    "colab": {
      "name": "Functional programming",
      "provenance": [],
      "collapsed_sections": [],
      "authorship_tag": "ABX9TyPFbnT85DAW6ga0iOirDMkE",
      "include_colab_link": true
    },
    "kernelspec": {
      "name": "python3",
      "display_name": "Python 3"
    }
  },
  "cells": [
    {
      "cell_type": "markdown",
      "metadata": {
        "id": "view-in-github",
        "colab_type": "text"
      },
      "source": [
        "<a href=\"https://colab.research.google.com/github/gilbertotcc/colab-notebooks/blob/feat%2Ffunctional-programming-in-python/notebooks/Functional_programming.ipynb\" target=\"_parent\"><img src=\"https://colab.research.google.com/assets/colab-badge.svg\" alt=\"Open In Colab\"/></a>"
      ]
    },
    {
      "cell_type": "markdown",
      "metadata": {
        "id": "htWoJBWIGGg0"
      },
      "source": [
        "# Functional Programming\n",
        "\n",
        "Playground notebook with notes and examples taken while studying\n",
        "[Functional Programming in Python](https://www.oreilly.com/library/view/functional-programming-in/9781492048633/)\n",
        "by David Mertz."
      ]
    },
    {
      "cell_type": "code",
      "metadata": {
        "id": "cQcEKRh9GFTb"
      },
      "source": [
        "# TODO Add some code to justify this notebook"
      ],
      "execution_count": null,
      "outputs": []
    },
    {
      "cell_type": "markdown",
      "metadata": {
        "id": "gV2uTgxSSoIV"
      },
      "source": [
        "## Resources\n",
        "\n",
        "- [Functional Programming HOWTO](https://docs.python.org/3/howto/functional.html)."
      ]
    }
  ]
}