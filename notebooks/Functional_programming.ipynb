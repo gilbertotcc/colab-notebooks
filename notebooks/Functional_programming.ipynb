{
  "nbformat": 4,
  "nbformat_minor": 0,
  "metadata": {
    "colab": {
      "name": "Functional programming",
      "provenance": [],
      "collapsed_sections": [],
      "authorship_tag": "ABX9TyMd6PJoHq8o4Jd2g9fjnsLC"
    },
    "kernelspec": {
      "name": "python3",
      "display_name": "Python 3"
    }
  },
  "cells": [
    {
      "cell_type": "markdown",
      "metadata": {
        "id": "htWoJBWIGGg0"
      },
      "source": [
        "# Functional Programming\n",
        "\n",
        "Playground notebook with notes and examples taken while studying the\n",
        "report\n",
        "[Functional Programming in Python](https://www.oreilly.com/library/view/functional-programming-in/9781492048633/)\n",
        "by David Mertz."
      ]
    },
    {
      "cell_type": "markdown",
      "metadata": {
        "id": "ifSJIqowMgND"
      },
      "source": [
        "## Closure\n",
        "\n",
        "- **Class** *«Data with operations attached*».\n",
        "- **Closure** *«operations with data attached»*."
      ]
    },
    {
      "cell_type": "code",
      "metadata": {
        "id": "cQcEKRh9GFTb",
        "outputId": "ff64ef12-9cb9-4d40-b8ea-1e1482f85c9d",
        "colab": {
          "base_uri": "https://localhost:8080/"
        }
      },
      "source": [
        "def make_adder(n):\n",
        "    def adder(m):\n",
        "        return n + m\n",
        "    return adder\n",
        "\n",
        "# Create and call the closure\n",
        "adder_1 = make_adder(1)\n",
        "print(adder_1(5))\n",
        "print(adder_1(1))"
      ],
      "execution_count": 3,
      "outputs": [
        {
          "output_type": "stream",
          "text": [
            "6\n",
            "2\n"
          ],
          "name": "stdout"
        }
      ]
    },
    {
      "cell_type": "markdown",
      "metadata": {
        "id": "gV2uTgxSSoIV"
      },
      "source": [
        "## Resources\n",
        "\n",
        "- [Functional Programming HOWTO](https://docs.python.org/3/howto/functional.html)."
      ]
    }
  ]
}