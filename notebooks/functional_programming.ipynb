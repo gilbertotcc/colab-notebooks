{
  "nbformat": 4,
  "nbformat_minor": 0,
  "metadata": {
    "colab": {
      "name": "Functional programming",
      "provenance": [],
      "collapsed_sections": [],
      "authorship_tag": "ABX9TyMyXdRS2TNsoKz3/cW++Qod"
    },
    "kernelspec": {
      "name": "python3",
      "display_name": "Python 3"
    }
  },
  "cells": [
    {
      "cell_type": "markdown",
      "metadata": {
        "id": "htWoJBWIGGg0"
      },
      "source": [
        "# Functional programming\n",
        "\n",
        "Playground notebook with notes and examples taken while studying\n",
        "[Functional Programming in Python](https://www.oreilly.com/library/view/functional-programming-in/9781492048633/)\n",
        "by David Mertz."
      ]
    },
    {
      "cell_type": "code",
      "metadata": {
        "id": "cQcEKRh9GFTb"
      },
      "source": [
        ""
      ],
      "execution_count": null,
      "outputs": []
    }
  ]
}